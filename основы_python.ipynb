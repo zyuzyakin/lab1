{
  "cells": [
    {
      "cell_type": "markdown",
      "metadata": {
        "id": "M-DGa20PaHnu"
      },
      "source": [
        "#Задача 1\n",
        "Написать функцию на вход которой подается строка, состоящая из латинских букв.\n",
        "Функция должна вернуть количество гласных букв (a, e, i, o, u) в этой строке. Написать тесты для кода"
      ]
    },
    {
      "cell_type": "code",
      "execution_count": 11,
      "metadata": {
        "id": "XvX8X_JJ6PCb"
      },
      "outputs": [],
      "source": [
        "def task1(s):\n",
        "    g = ['a', 'e', 'i', 'o', 'u']\n",
        "    return len([i for i in s if i in g])\n",
        "\n",
        "assert task1('aaa') == 3\n",
        "assert task1('abci') == 2\n",
        "assert task1('abciiiiio') == 7"
      ]
    },
    {
      "cell_type": "markdown",
      "metadata": {
        "id": "t2ClV_Y0bbr6"
      },
      "source": [
        "# Задача 2\n",
        "Написать функцию на вход, которой подается строка. Функция должна вернуть true, если\n",
        "каждый символ в строке встречается только 1 раз, иначе должна вернуть false. Написать тесты для кода"
      ]
    },
    {
      "cell_type": "code",
      "execution_count": 10,
      "metadata": {
        "id": "FppbECao6VIz"
      },
      "outputs": [],
      "source": [
        "def task2(s):\n",
        "    return len(s) == len(set(s))\n",
        "\n",
        "assert task2('aaa') == False\n",
        "assert task2('abcdi') == True\n",
        "assert task2('iiaaa;js') == False"
      ]
    },
    {
      "cell_type": "markdown",
      "metadata": {
        "id": "udRiIK1cdt6E"
      },
      "source": [
        "# Задача 3\n",
        "Написать функцию, которая принимает положительное число и возвращает количество\n",
        "бит равных 1 в этом числе. Написать тесты для кода"
      ]
    },
    {
      "cell_type": "code",
      "execution_count": 9,
      "metadata": {
        "id": "6tkfDJRz6dp_"
      },
      "outputs": [],
      "source": [
        "def task3(c):\n",
        "    return bin(int(c))[2:].count('1')\n",
        "\n",
        "assert task3(7) == 3\n",
        "assert task3(5) == 2"
      ]
    },
    {
      "cell_type": "markdown",
      "metadata": {
        "id": "26dDUz-Ae17N"
      },
      "source": [
        "# Задача 4\n",
        "Написать функцию, которая принимает положительное число. Функция должна вернуть то,\n",
        "сколько раз необходимо перемножать цифры числа или результат перемножения, чтобы\n",
        "получилось число состоящее из одной цифры.\n",
        "Например, для входного числа:\n",
        "· 39 функция должна вернуть 3, так как 3*9=27 => 2*7=14 => 1*4=4\n",
        "· 4 функция должна вернуть 0, так как число уже состоит из одной цифры\n",
        "· 999 функция должна вернуть 4, так как 9*9*9=729 => 7*2*9=126 => 1*2*6=12 =>\n",
        "1*2=2. Написать тесты для кода"
      ]
    },
    {
      "cell_type": "code",
      "execution_count": 8,
      "metadata": {
        "id": "BH1A_Mgi6i4G"
      },
      "outputs": [],
      "source": [
        "def task4(a):\n",
        "    c = str(a)\n",
        "    cnt = 0\n",
        "    while len(c) > 1:\n",
        "        pr = 1\n",
        "        for i in c:\n",
        "            pr *= int(i)\n",
        "        c = str(pr)\n",
        "        cnt +=1\n",
        "    return cnt\n",
        "\n",
        "assert task4(39) == 3\n",
        "assert task4(4) == 0\n",
        "assert task4(999) == 4"
      ]
    },
    {
      "cell_type": "markdown",
      "metadata": {
        "id": "0nS-kIa8g8vd"
      },
      "source": [
        "# Задача 5\n",
        "Написать функцию, которая принимает два целочисленных вектора одинаковой длины и\n",
        "возвращает среднеквадратическое отклонение двух векторов. Написать тесты для кода"
      ]
    },
    {
      "cell_type": "code",
      "execution_count": null,
      "metadata": {
        "id": "8iphx4LM6xbx"
      },
      "outputs": [],
      "source": [
        "def task5(a, b):\n",
        "    s = 0\n",
        "    for i in range(len(a)):\n",
        "        s += (a[i]-b[i]) ** 2\n",
        "    return 1 / len(a) * s"
      ]
    },
    {
      "cell_type": "markdown",
      "metadata": {
        "id": "vpIPKL439zkw"
      },
      "source": [
        "# Задача 6\n",
        "Написать функцию, принимающая целое положительное число. Функция должна вернуть\n",
        "строку вида “(n1**p1)(n2**p2)…(nk**pk)” представляющая разложение числа на простые\n",
        "множители (если pi == 1, то выводить только ni).\n",
        "Например, для числа 86240 функция должна вернуть “(2**5)(5)(7**2)(11)”. Написать тесты для кода"
      ]
    },
    {
      "cell_type": "code",
      "execution_count": 34,
      "metadata": {
        "id": "pFebmcZk94Jw"
      },
      "outputs": [],
      "source": [
        "def is_prime(n):\n",
        "    for i in range(2, n // 2 + 1):\n",
        "        if n % i == 0:\n",
        "            return False\n",
        "    return True\n",
        "\n",
        "def get_prime_multipliers(n):\n",
        "    mult = []\n",
        "    d = 2\n",
        "    while not is_prime(n):\n",
        "        if n % d == 0:\n",
        "            mult.append(d)\n",
        "            n //= d\n",
        "        else:\n",
        "            d += 1\n",
        "            while not is_prime(d):\n",
        "                d += 1\n",
        "    mult.append(n)\n",
        "    return mult\n",
        "\n",
        "def task6(n):\n",
        "    m = dict()\n",
        "    mult = get_prime_multipliers(n)\n",
        "    result = \"\"\n",
        "    for i in mult:\n",
        "        if i in m:\n",
        "            m[i] += 1\n",
        "        else:\n",
        "            m[i] = 1\n",
        "    for i in m:\n",
        "        if m[i] != 1:\n",
        "            result += f\"({i}**{m[i]})\"\n",
        "        else:\n",
        "             result +=f\"({i})\"\n",
        "    return result\n",
        "\n",
        "\n",
        "assert task6(86240) == \"(2**5)(5)(7**2)(11)\"\n",
        "assert task6(6) == \"(2)(3)\"\n",
        "assert task6(0) == \"(0)\"\n"
      ]
    },
    {
      "cell_type": "markdown",
      "metadata": {
        "id": "ps2s0BudX7A2"
      },
      "source": [
        "# Задача 7\n",
        "Написать функцию, принимающая целое число n, задающее количество кубиков. Функция\n",
        "должна определить, можно ли из данного кол-ва кубиков построить пирамиду, то есть\n",
        "можно ли представить число n как 1^2+2^2+3^2+…+k^2. Если можно, то функция должна\n",
        "вернуть k, иначе строку “It is impossible”. Написать тесты для кода"
      ]
    },
    {
      "cell_type": "code",
      "execution_count": 36,
      "metadata": {
        "id": "3YPjEXxhX_YT"
      },
      "outputs": [],
      "source": [
        "def pyramid(n):\n",
        "    if n <= 0:\n",
        "        return \"It is impossible\"\n",
        "    k = 1\n",
        "    total = 0\n",
        "    while True:\n",
        "        total += k ** 2\n",
        "        if total == n:\n",
        "            return k\n",
        "        if total > n:\n",
        "            return \"It is impossible\"\n",
        "        k += 1\n",
        "\n",
        "assert pyramid(1) == 1\n",
        "assert pyramid(5) == 2\n",
        "assert pyramid(31) == \"It is impossible\""
      ]
    },
    {
      "cell_type": "markdown",
      "metadata": {
        "id": "KeKgmIdAQMEJ"
      },
      "source": [
        "# Задача 8\n",
        "Функция принимает на вход положительное число и определяет является ли оно сбалансированным, т.е. сумма цифр до средних равна сумме цифр после. Средними в случае нечетного числа цифр считать одну цифру, в случае четного - две средних. Написать тесты для кода"
      ]
    },
    {
      "cell_type": "code",
      "execution_count": null,
      "metadata": {
        "id": "gMAAqtqlQrZt"
      },
      "outputs": [],
      "source": [
        "def balance(n):\n",
        "    s = str(n)\n",
        "    l = len(s)\n",
        "    if l % 2 == 0:\n",
        "        return sum([int(i) for i in s[l // 2 - 1:]]) == sum([int(i) for i in s[:l // 2 + 1]])\n",
        "    else:\n",
        "        return sum([int(i) for i in s[l // 2:]]) == sum([int(i) for i in s[:l // 2 + 1]])\n",
        "\n",
        "assert balance(121) == True\n",
        "assert balance(1221) == True\n",
        "assert balance(34543) == True\n",
        "assert balance(123) == False\n",
        "assert balance(123456) == False"
      ]
    }
  ],
  "metadata": {
    "colab": {
      "provenance": []
    },
    "kernelspec": {
      "display_name": "Python 3",
      "name": "python3"
    },
    "language_info": {
      "codemirror_mode": {
        "name": "ipython",
        "version": 3
      },
      "file_extension": ".py",
      "mimetype": "text/x-python",
      "name": "python",
      "nbconvert_exporter": "python",
      "pygments_lexer": "ipython3",
      "version": "3.13.2"
    }
  },
  "nbformat": 4,
  "nbformat_minor": 0
}
